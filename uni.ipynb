{
 "cells": [
  {
   "cell_type": "code",
   "execution_count": null,
   "metadata": {},
   "outputs": [],
   "source": [
    "import requests\n",
    "import json\n",
    "import re\n",
    "import nltk\n",
    "from nltk.tokenize import word_tokenize\n",
    "from nltk.corpus import stopwords\n",
    "from pymystem3 import Mystem\n",
    "from tqdm.auto import tqdm\n",
    "import pandas as pd\n",
    "from wordcloud import WordCloud\n",
    "import matplotlib.pyplot as plt\n",
    "from nltk.corpus import stopwords\n",
    "from sklearn.feature_extraction.text import TfidfVectorizer\n",
    "import numpy as np"
   ]
  },
  {
   "cell_type": "code",
   "execution_count": null,
   "metadata": {},
   "outputs": [],
   "source": [
    "m = Mystem()\n",
    "sw = stopwords.words('russian')"
   ]
  },
  {
   "cell_type": "code",
   "execution_count": null,
   "metadata": {},
   "outputs": [],
   "source": [
    "TOKEN = \"d7a7a0c3d7a7a0c3d7a7a0c3d8d7dc6daadd7a7d7a7a0c3b59c2ba2e8acb71b6a452f29\"\n",
    "VERSION = \"5.130\""
   ]
  },
  {
   "cell_type": "code",
   "execution_count": null,
   "metadata": {},
   "outputs": [],
   "source": [
    "wall_get_url = \"https://api.vk.com/method/wall.get\""
   ]
  },
  {
   "cell_type": "markdown",
   "metadata": {},
   "source": [
    "Функция, которая скачивает записи в файл"
   ]
  },
  {
   "cell_type": "code",
   "execution_count": null,
   "metadata": {},
   "outputs": [],
   "source": [
    "def downloader(uni_id):\n",
    "    data_one = requests.get(\n",
    "        wall_get_url, \n",
    "        params={\n",
    "            \"owner_id\": -uni_id,  \n",
    "            \"count\": 100,  \n",
    "            \"filter\": 'owner',\n",
    "            \"v\": VERSION, \n",
    "            \"access_token\": TOKEN \n",
    "        }\n",
    "    ).json()\n",
    "    with open(str(uni_id)+\".txt\", \"w\") as myfile:\n",
    "        json.dump(data_one, myfile, ensure_ascii = False)\n",
    "    data_two = requests.get(\n",
    "        wall_get_url, \n",
    "        params={\n",
    "            \"owner_id\": -uni_id, \n",
    "            \"offset\" : 100,\n",
    "            \"count\": 100,  \n",
    "            \"filter\": 'owner',\n",
    "            \"v\": VERSION, \n",
    "            \"access_token\": TOKEN \n",
    "        }\n",
    "    ).json()\n",
    "    with open(str(uni_id)+\".txt\", \"a\") as myfile:\n",
    "        json.dump(data_two, myfile, ensure_ascii = False)\n",
    "    data_three = requests.get(\n",
    "        wall_get_url, \n",
    "        params={\n",
    "            \"owner_id\": -uni_id, \n",
    "            \"offset\" : 200,\n",
    "            \"count\": 100,  \n",
    "            \"filter\": 'owner',\n",
    "            \"v\": VERSION, \n",
    "            \"access_token\": TOKEN \n",
    "        }\n",
    "    ).json()\n",
    "    with open(str(uni_id)+\".txt\", \"a\") as myfile:\n",
    "        json.dump(data_three, myfile, ensure_ascii = False)"
   ]
  },
  {
   "cell_type": "markdown",
   "metadata": {},
   "source": [
    "Функция, которая вырезает из документа только тексты новостей"
   ]
  },
  {
   "cell_type": "code",
   "execution_count": null,
   "metadata": {},
   "outputs": [],
   "source": [
    "def raw_text(uni_id):\n",
    "    with open(str(uni_id)+\".txt\", \"r\") as myfile:\n",
    "        posts = re.findall('(?<=\"text\": ).+?(?=\",)', myfile.read())\n",
    "    with open(\"text\" + str(uni_id)+\".txt\", \"w\") as myfile:\n",
    "        myfile.writelines(posts)"
   ]
  },
  {
   "cell_type": "markdown",
   "metadata": {},
   "source": [
    "Функция, которая обрабатывает текст, токенизирует и приводит слова в начальную форму"
   ]
  },
  {
   "cell_type": "code",
   "execution_count": null,
   "metadata": {},
   "outputs": [],
   "source": [
    "def parser(filename):\n",
    "    with open(filename + '.txt', 'r') as myfile:\n",
    "        line = myfile.read()\n",
    "        words = [w.lower() for w in word_tokenize(line) if w.isalpha()]\n",
    "        filtered = [w for w in words if w not in sw]\n",
    "        lemmas = []\n",
    "        for elem in filtered:\n",
    "            if bool(re.match(r\"[a-z]+\", elem)) == True:\n",
    "                pass\n",
    "            else:\n",
    "                lemma = m.lemmatize(elem)\n",
    "                lemmas.append(lemma[0])\n",
    "                lemmas_str = ' '.join(lemmas)\n",
    "    with open('parsed_' + filename + '.txt', 'w') as myfile:\n",
    "        myfile.write(lemmas_str)"
   ]
  },
  {
   "cell_type": "markdown",
   "metadata": {},
   "source": [
    "Функция, которая сохранит облако слов для каждого университета"
   ]
  },
  {
   "cell_type": "code",
   "execution_count": null,
   "metadata": {},
   "outputs": [],
   "source": [
    "def wordcloud_saver(uni):\n",
    "    with open('parsed_text' + str(uni) + '.txt', 'r') as myfile:\n",
    "        text = myfile.read()\n",
    "        wordcloud = WordCloud(\n",
    "            background_color ='white',\n",
    "            width = 800,\n",
    "            height = 800, \n",
    "        ).generate(text)\n",
    "\n",
    "        plt.figure(figsize = (8, 8), facecolor = None) \n",
    "        plt.imshow(wordcloud)\n",
    "        plt.axis(\"off\") \n",
    "        plt.title('Облако слов')\n",
    "        plt.savefig('/home/black/project/proga_hw/proga_project_22/static/images/cloud'+str(uni)+'.png')\n",
    "        plt.close()"
   ]
  },
  {
   "cell_type": "code",
   "execution_count": null,
   "metadata": {},
   "outputs": [],
   "source": [
    "stops = stopwords.words(\"russian\")\n",
    "tfidf = TfidfVectorizer(\n",
    "    analyzer=\"word\", \n",
    "    stop_words=stops\n",
    ")"
   ]
  },
  {
   "cell_type": "markdown",
   "metadata": {},
   "source": [
    "Функция, которая выделит ключевые слова, построит график их частотности и сохранит его"
   ]
  },
  {
   "cell_type": "code",
   "execution_count": 88,
   "metadata": {},
   "outputs": [],
   "source": [
    "def get_top_tf_idf_words(tfidf_vector, feature_names, top_n):\n",
    "    sorted_nzs = np.argsort(tfidf_vector.data)[:-(top_n+1):-1]\n",
    "    return feature_names[tfidf_vector.indices[sorted_nzs]]\n",
    "\n",
    "def tfidf_saver(uni):\n",
    "    with open('parsed_text' + str(uni) +'.txt', 'r') as myfile:\n",
    "        posts_tfidf = tfidf.fit_transform(myfile)\n",
    "        feature_names = np.array(tfidf.get_feature_names_out())\n",
    "        post_vector = posts_tfidf\n",
    "        words = get_top_tf_idf_words(post_vector, feature_names, 10)\n",
    "    with open('parsed_text' + str(uni) +'.txt', 'r') as myfile:\n",
    "        data = myfile.read()\n",
    "        occurences = []\n",
    "        for word in words:\n",
    "            count = data.count(word)\n",
    "            occurences.append(count)\n",
    "    fig = plt.figure()\n",
    "    ax = fig.add_axes([0,0,1,1])\n",
    "    ax.bar(words,occurences, color='mediumpurple')\n",
    "    plt.xticks(rotation = 45)\n",
    "    plt.xlabel('Слова')\n",
    "    plt.ylabel('Частотность')\n",
    "    plt.title('Частотность ключевых слов')\n",
    "    plt.savefig('/home/black/project/proga_hw/proga_project_22/static/images/freq'+str(uni)+'.jpeg')\n",
    "    plt.close()\n",
    "    "
   ]
  },
  {
   "cell_type": "markdown",
   "metadata": {},
   "source": [
    "Выборка сообществ (топ по количеству участников):\n",
    "\n",
    "ID – название универа\n",
    "\n",
    "* 132 ВШЭ\n",
    "* 78019879 МГУ\n",
    "* 52298374 СПБГУ\n",
    "* 5398 РАНХиГС\n",
    "* 6319 Финансовый университет при Правительстве РФ\n",
    "* 40427933 МГТУ им. Н.Э. Баумана\n",
    "* 932 МФТИ\n",
    "* 26555975 МГИМО\n"
   ]
  },
  {
   "cell_type": "markdown",
   "metadata": {},
   "source": [
    "Обрабатываем все сообщества с помощью функций"
   ]
  },
  {
   "cell_type": "code",
   "execution_count": null,
   "metadata": {},
   "outputs": [],
   "source": [
    "unis=[132,78019879,52298374,5398,6319,40427933,932,26555975]\n",
    "for uni in unis:\n",
    "    downloader(uni)\n",
    "    raw_text(uni)\n",
    "    name = 'text'+str(uni)\n",
    "    parser(name)\n",
    "    wordcloud_saver(uni)\n",
    "    tfidf_saver(uni)"
   ]
  },
  {
   "cell_type": "markdown",
   "metadata": {},
   "source": [
    "Соберём все тексты в один большой файл, чтобы построить облако слов и график для всех текстов"
   ]
  },
  {
   "cell_type": "code",
   "execution_count": null,
   "metadata": {},
   "outputs": [],
   "source": [
    "unis=[132,78019879,52298374,5398,6319,40427933,932,26555975]\n",
    "for uni in unis:\n",
    "    with open('parsed_text' + str(uni) +'.txt', 'r') as myfile:\n",
    "        text = myfile.read()\n",
    "        with open('parsed_text01.txt', 'a') as f:\n",
    "            f.write(text)"
   ]
  },
  {
   "cell_type": "code",
   "execution_count": null,
   "metadata": {},
   "outputs": [],
   "source": [
    "uni = '01'\n",
    "wordcloud_saver(uni)\n",
    "tfidf_saver(uni)"
   ]
  }
 ],
 "metadata": {
  "interpreter": {
   "hash": "5a0b7a4971ec7a609c65df04a9ccf94b711add350d2023ac68e0ebf6ace84d36"
  },
  "kernelspec": {
   "display_name": "Python 3.8.10 64-bit ('venv': venv)",
   "language": "python",
   "name": "python3"
  },
  "language_info": {
   "codemirror_mode": {
    "name": "ipython",
    "version": 3
   },
   "file_extension": ".py",
   "mimetype": "text/x-python",
   "name": "python",
   "nbconvert_exporter": "python",
   "pygments_lexer": "ipython3",
   "version": "3.8.10"
  },
  "orig_nbformat": 4
 },
 "nbformat": 4,
 "nbformat_minor": 2
}
